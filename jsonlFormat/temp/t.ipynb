{
 "cells": [
  {
   "cell_type": "code",
   "execution_count": 1,
   "id": "e6c44328",
   "metadata": {},
   "outputs": [],
   "source": [
    "import requests, gzip\n",
    "import pandas as pd\n",
    "from io import BytesIO\n"
   ]
  },
  {
   "cell_type": "code",
   "execution_count": 6,
   "id": "c7adcc5b",
   "metadata": {},
   "outputs": [
    {
     "name": "stdout",
     "output_type": "stream",
     "text": [
      "Total URLs found: 25220\n",
      "0    https://www.flipkart.com/clothing-and-accessor...\n",
      "1    https://www.flipkart.com/hi/clothing-and-acces...\n",
      "2    https://www.flipkart.com/clothing-and-accessor...\n",
      "3    https://www.flipkart.com/hi/clothing-and-acces...\n",
      "4    https://www.flipkart.com/clothing-and-accessor...\n",
      "5    https://www.flipkart.com/hi/clothing-and-acces...\n",
      "6    https://www.flipkart.com/clothing-and-accessor...\n",
      "7    https://www.flipkart.com/hi/clothing-and-acces...\n",
      "8    https://www.flipkart.com/clothing-and-accessor...\n",
      "9    https://www.flipkart.com/hi/clothing-and-acces...\n",
      "Name: loc, dtype: object\n"
     ]
    }
   ],
   "source": [
    "\n",
    "url = \"https://www.flipkart.com/sitemap_v_view-browse.xml.gz\"\n",
    "# url = \"https://www.google.com/sitemap.xml\"\n",
    "# url = \"https://www.amazon.com/sitemap.xml\"\n",
    "\n",
    "headers = {\n",
    "    \"User-Agent\": \"Mozilla/5.0 (Windows NT 10.0; Win64; x64) \"\n",
    "                  \"AppleWebKit/537.36 (KHTML, like Gecko) \"\n",
    "                  \"Chrome/120.0.0.0 Safari/537.36\"\n",
    "}\n",
    "\n",
    "try:\n",
    "    res = requests.get(url, headers=headers, timeout=15)\n",
    "    res.raise_for_status()\n",
    "\n",
    "    content = res.content\n",
    "\n",
    "    # Check if gzipped\n",
    "    if url.endswith(\".gz\") or res.headers.get(\"Content-Encoding\") == \"gzip\":\n",
    "        xml_content = gzip.decompress(content).decode(\"utf-8\", errors=\"ignore\")\n",
    "    else:\n",
    "        xml_content = content.decode(\"utf-8\", errors=\"ignore\")\n",
    "\n",
    "    # Parse XML into DataFrame\n",
    "    df = pd.read_xml(BytesIO(xml_content.encode(\"utf-8\")))\n",
    "\n",
    "    if \"loc\" in df.columns:\n",
    "        print(\"Total URLs found:\", len(df))\n",
    "        print(df[\"loc\"].head(10))  # first 10 URLs\n",
    "    else:\n",
    "        print(\"⚠️ 'loc' column not found in sitemap XML\")\n",
    "\n",
    "except Exception as e:\n",
    "    print(\"❌ Error:\", e)\n"
   ]
  },
  {
   "cell_type": "code",
   "execution_count": 4,
   "id": "934d1a47",
   "metadata": {},
   "outputs": [
    {
     "data": {
      "application/vnd.microsoft.datawrangler.viewer.v0+json": {
       "columns": [
        {
         "name": "index",
         "rawType": "int64",
         "type": "integer"
        },
        {
         "name": "loc",
         "rawType": "object",
         "type": "string"
        }
       ],
       "ref": "bd0405af-638a-421c-8392-801141bec532",
       "rows": [
        [
         "0",
         "https://www.flipkart.com/clothing-and-accessories/winered~brand/pr?sid=clo"
        ],
        [
         "1",
         "https://www.flipkart.com/hi/clothing-and-accessories/winered~brand/pr?sid=clo"
        ],
        [
         "2",
         "https://www.flipkart.com/clothing-and-accessories/handsome-king~brand/pr?sid=clo"
        ],
        [
         "3",
         "https://www.flipkart.com/hi/clothing-and-accessories/handsome-king~brand/pr?sid=clo"
        ],
        [
         "4",
         "https://www.flipkart.com/clothing-and-accessories/gunatit~brand/pr?sid=clo"
        ],
        [
         "5",
         "https://www.flipkart.com/hi/clothing-and-accessories/gunatit~brand/pr?sid=clo"
        ],
        [
         "6",
         "https://www.flipkart.com/clothing-and-accessories/dearise~brand/pr?sid=clo"
        ],
        [
         "7",
         "https://www.flipkart.com/hi/clothing-and-accessories/dearise~brand/pr?sid=clo"
        ],
        [
         "8",
         "https://www.flipkart.com/clothing-and-accessories/druzzee~brand/pr?sid=clo"
        ],
        [
         "9",
         "https://www.flipkart.com/hi/clothing-and-accessories/druzzee~brand/pr?sid=clo"
        ],
        [
         "10",
         "https://www.flipkart.com/clothing-and-accessories/tripr~brand/pr?sid=clo"
        ],
        [
         "11",
         "https://www.flipkart.com/hi/clothing-and-accessories/tripr~brand/pr?sid=clo"
        ],
        [
         "12",
         "https://www.flipkart.com/clothing-and-accessories/nayo~brand/pr?sid=clo"
        ],
        [
         "13",
         "https://www.flipkart.com/hi/clothing-and-accessories/nayo~brand/pr?sid=clo"
        ],
        [
         "14",
         "https://www.flipkart.com/clothing-and-accessories/cute-n-tight~brand/pr?sid=clo"
        ],
        [
         "15",
         "https://www.flipkart.com/hi/clothing-and-accessories/cute-n-tight~brand/pr?sid=clo"
        ],
        [
         "16",
         "https://www.flipkart.com/clothing-and-accessories/briafinz~brand/pr?sid=clo"
        ],
        [
         "17",
         "https://www.flipkart.com/hi/clothing-and-accessories/briafinz~brand/pr?sid=clo"
        ],
        [
         "18",
         "https://www.flipkart.com/clothing-and-accessories/fashfun~brand/pr?sid=clo"
        ],
        [
         "19",
         "https://www.flipkart.com/hi/clothing-and-accessories/fashfun~brand/pr?sid=clo"
        ],
        [
         "20",
         "https://www.flipkart.com/clothing-and-accessories/keepcart~brand/pr?sid=clo"
        ],
        [
         "21",
         "https://www.flipkart.com/hi/clothing-and-accessories/keepcart~brand/pr?sid=clo"
        ],
        [
         "22",
         "https://www.flipkart.com/clothing-and-accessories/urbano-plus~brand/pr?sid=clo"
        ],
        [
         "23",
         "https://www.flipkart.com/hi/clothing-and-accessories/urbano-plus~brand/pr?sid=clo"
        ],
        [
         "24",
         "https://www.flipkart.com/clothing-and-accessories/deneeja~brand/pr?sid=clo"
        ],
        [
         "25",
         "https://www.flipkart.com/hi/clothing-and-accessories/deneeja~brand/pr?sid=clo"
        ],
        [
         "26",
         "https://www.flipkart.com/clothing-and-accessories/saffe~brand/pr?sid=clo"
        ],
        [
         "27",
         "https://www.flipkart.com/hi/clothing-and-accessories/saffe~brand/pr?sid=clo"
        ],
        [
         "28",
         "https://www.flipkart.com/clothing-and-accessories/queensfab~brand/pr?sid=clo"
        ],
        [
         "29",
         "https://www.flipkart.com/hi/clothing-and-accessories/queensfab~brand/pr?sid=clo"
        ],
        [
         "30",
         "https://www.flipkart.com/clothing-and-accessories/evaara~brand/pr?sid=clo"
        ],
        [
         "31",
         "https://www.flipkart.com/hi/clothing-and-accessories/evaara~brand/pr?sid=clo"
        ],
        [
         "32",
         "https://www.flipkart.com/clothing-and-accessories/varanga~brand/pr?sid=clo"
        ],
        [
         "33",
         "https://www.flipkart.com/hi/clothing-and-accessories/varanga~brand/pr?sid=clo"
        ],
        [
         "34",
         "https://www.flipkart.com/clothing-and-accessories/shopglobal~brand/pr?sid=clo"
        ],
        [
         "35",
         "https://www.flipkart.com/hi/clothing-and-accessories/shopglobal~brand/pr?sid=clo"
        ],
        [
         "36",
         "https://www.flipkart.com/clothing-and-accessories/montrez~brand/pr?sid=clo"
        ],
        [
         "37",
         "https://www.flipkart.com/hi/clothing-and-accessories/montrez~brand/pr?sid=clo"
        ],
        [
         "38",
         "https://www.flipkart.com/clothing-and-accessories/corsica~brand/pr?sid=clo"
        ],
        [
         "39",
         "https://www.flipkart.com/hi/clothing-and-accessories/corsica~brand/pr?sid=clo"
        ],
        [
         "40",
         "https://www.flipkart.com/clothing-and-accessories/pamberston~brand/pr?sid=clo"
        ],
        [
         "41",
         "https://www.flipkart.com/hi/clothing-and-accessories/pamberston~brand/pr?sid=clo"
        ],
        [
         "42",
         "https://www.flipkart.com/clothing-and-accessories/joven~brand/pr?sid=clo"
        ],
        [
         "43",
         "https://www.flipkart.com/hi/clothing-and-accessories/joven~brand/pr?sid=clo"
        ],
        [
         "44",
         "https://www.flipkart.com/clothing-and-accessories/vastramay~brand/pr?sid=clo"
        ],
        [
         "45",
         "https://www.flipkart.com/hi/clothing-and-accessories/vastramay~brand/pr?sid=clo"
        ],
        [
         "46",
         "https://www.flipkart.com/clothing-and-accessories/royal-export~brand/pr?sid=clo"
        ],
        [
         "47",
         "https://www.flipkart.com/hi/clothing-and-accessories/royal-export~brand/pr?sid=clo"
        ],
        [
         "48",
         "https://www.flipkart.com/clothing-and-accessories/purvaja~brand/pr?sid=clo"
        ],
        [
         "49",
         "https://www.flipkart.com/hi/clothing-and-accessories/purvaja~brand/pr?sid=clo"
        ]
       ],
       "shape": {
        "columns": 1,
        "rows": 25220
       }
      },
      "text/plain": [
       "0        https://www.flipkart.com/clothing-and-accessor...\n",
       "1        https://www.flipkart.com/hi/clothing-and-acces...\n",
       "2        https://www.flipkart.com/clothing-and-accessor...\n",
       "3        https://www.flipkart.com/hi/clothing-and-acces...\n",
       "4        https://www.flipkart.com/clothing-and-accessor...\n",
       "                               ...                        \n",
       "25215    https://www.flipkart.com/hi/televisions/huidi~...\n",
       "25216    https://www.flipkart.com/televisions/full-hd~r...\n",
       "25217    https://www.flipkart.com/hi/televisions/full-h...\n",
       "25218    https://www.flipkart.com/televisions/ultra-hd-...\n",
       "25219    https://www.flipkart.com/hi/televisions/ultra-...\n",
       "Name: loc, Length: 25220, dtype: object"
      ]
     },
     "execution_count": 4,
     "metadata": {},
     "output_type": "execute_result"
    }
   ],
   "source": [
    "df['loc']"
   ]
  },
  {
   "cell_type": "code",
   "execution_count": null,
   "id": "d73f368f",
   "metadata": {},
   "outputs": [],
   "source": [
    "keywords = [\"faq\", \"faqs\", \"qna\", \"customer-care\",\"Question & Answer\"]\n",
    "mask = df['loc'].str.lower().str.contains('|'.join(keywords))\n",
    "faq_links = df[mask]\n",
    "\n",
    "faq_links['loc'].tolist()\n"
   ]
  },
  {
   "cell_type": "code",
   "execution_count": null,
   "id": "8e04295f",
   "metadata": {},
   "outputs": [],
   "source": [
    "df[df['loc'].str.lower().str.contains('faqs')]"
   ]
  }
 ],
 "metadata": {
  "kernelspec": {
   "display_name": "Python 3",
   "language": "python",
   "name": "python3"
  },
  "language_info": {
   "codemirror_mode": {
    "name": "ipython",
    "version": 3
   },
   "file_extension": ".py",
   "mimetype": "text/x-python",
   "name": "python",
   "nbconvert_exporter": "python",
   "pygments_lexer": "ipython3",
   "version": "3.13.7"
  }
 },
 "nbformat": 4,
 "nbformat_minor": 5
}
